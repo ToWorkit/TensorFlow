{
 "cells": [
  {
   "cell_type": "code",
   "execution_count": 13,
   "metadata": {},
   "outputs": [
    {
     "name": "stdout",
     "output_type": "stream",
     "text": [
      "0 [0.309398, 2.6118662]\n",
      "20 [-0.33825761, 0.42554468]\n",
      "40 [-0.13544603, 0.32116842]\n",
      "60 [-0.026488833, 0.26509538]\n",
      "80 [0.032046314, 0.23497126]\n",
      "100 [0.063493192, 0.21878763]\n",
      "120 [0.080387406, 0.2100933]\n",
      "140 [0.089463517, 0.20542243]\n",
      "160 [0.09433949, 0.20291309]\n",
      "180 [0.096959002, 0.201565]\n",
      "200 [0.09836629, 0.20084077]\n"
     ]
    }
   ],
   "source": [
    "import tensorflow as tf\n",
    "import numpy as np\n",
    "'''\n",
    "样本\n",
    "'''\n",
    "# 随机生成100个点\n",
    "x_data = np.random.rand(100)\n",
    "# 平面坐标系中接近于一条直线, 斜率 0.1 截距 0.2\n",
    "# 样本真实值\n",
    "y_data = x_data * 0.1 + 0.2\n",
    "'''\n",
    "模型\n",
    "'''\n",
    "# 构造一个线性模型并初始化值(可根据需求设置初始值)\n",
    "# 斜率\n",
    "k = tf.Variable(1.3)\n",
    "# 截距\n",
    "b = tf.Variable(4.6)\n",
    "# 模型预测值\n",
    "y = k * x_data + b\n",
    "'''\n",
    "优化\n",
    "训练并优化模型使之无限接近(=>)样本数据(k => 样本斜率, b => 样本截距)\n",
    "'''\n",
    "# 二次代价函数\n",
    "# reduce_mean -> 平均值\n",
    "# square -> 平方\n",
    "# y_data -> 真实值\n",
    "# y -> 预测值\n",
    "# y_data - y -> 误差值\n",
    "loss = tf.reduce_mean(tf.square(y_data - y))\n",
    "\n",
    "# 梯度下降法 -> 用作训练的优化器\n",
    "# arguments 学习率\n",
    "optimizer = tf.train.GradientDescentOptimizer(0.2)\n",
    "# 最小化代价函数\n",
    "# 训练 -> 目的最小化loss(误差值)\n",
    "# 误差值越小预测值越接近真实值\n",
    "train = optimizer.minimize(loss)\n",
    "\n",
    "# 初始化变量\n",
    "init = tf.global_variables_initializer()\n",
    "\n",
    "# 创建会话\n",
    "with tf.Session() as sess:\n",
    "    # 执行初始化\n",
    "    sess.run(init)\n",
    "    # 迭代 -> 训练次数\n",
    "    for step in range(201):\n",
    "        # 执行训练\n",
    "        sess.run(train)\n",
    "        # 每二十次打印一次\n",
    "        if  step % 20 == 0:\n",
    "            print(step, sess.run([k, b]))\n"
   ]
  }
 ],
 "metadata": {
  "kernelspec": {
   "display_name": "Python 3",
   "language": "python",
   "name": "python3"
  },
  "language_info": {
   "codemirror_mode": {
    "name": "ipython",
    "version": 3
   },
   "file_extension": ".py",
   "mimetype": "text/x-python",
   "name": "python",
   "nbconvert_exporter": "python",
   "pygments_lexer": "ipython3",
   "version": "3.6.1"
  }
 },
 "nbformat": 4,
 "nbformat_minor": 2
}
