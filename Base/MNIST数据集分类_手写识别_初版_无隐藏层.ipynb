{
 "cells": [
  {
   "cell_type": "code",
   "execution_count": 1,
   "metadata": {},
   "outputs": [],
   "source": [
    "import tensorflow as tf\n",
    "# 手写数字相关工具包\n",
    "from tensorflow.examples.tutorials.mnist import input_data"
   ]
  },
  {
   "cell_type": "code",
   "execution_count": 3,
   "metadata": {},
   "outputs": [
    {
     "name": "stdout",
     "output_type": "stream",
     "text": [
      "Extracting MNIST_data\\train-images-idx3-ubyte.gz\n",
      "Extracting MNIST_data\\train-labels-idx1-ubyte.gz\n",
      "Extracting MNIST_data\\t10k-images-idx3-ubyte.gz\n",
      "Extracting MNIST_data\\t10k-labels-idx1-ubyte.gz\n"
     ]
    }
   ],
   "source": [
    "# 载入数据集\n",
    "# 没有的话会自动去下载数据集\n",
    "# 数据路径  转为one_hot(某一位数字为1，其余数字都为0)格式\n",
    "mnist = input_data.read_data_sets('MNIST_data', one_hot=True)\n",
    "# 每个批次的大小\n",
    "# 每次放入批次大小的数据集\n",
    "# 矩阵的形式\n",
    "batch_size = 100\n",
    "# 计算一共有多少个批次\n",
    "# 总训练集  整除  批次大小\n",
    "n_batch = mnist.train.num_examples // batch_size"
   ]
  },
  {
   "cell_type": "code",
   "execution_count": 4,
   "metadata": {},
   "outputs": [],
   "source": [
    "# 输入\n",
    "# 定义两个placeholder\n",
    "# [行 -> 任意值(此处为100，与上面的批次大小一致), 列 -> 每张图片都是28*28，需要转为一维的向量也就是28*28]\n",
    "x = tf.placeholder(tf.float32, [None, 784])\n",
    "# 数字为 0-9 \n",
    "y = tf.placeholder(tf.float32, [None, 10])"
   ]
  },
  {
   "cell_type": "code",
   "execution_count": 5,
   "metadata": {},
   "outputs": [],
   "source": [
    "# 输出\n",
    "# 创建简单的神经网络\n",
    "# 权值 -> 当前权值 784个输入层， 10个输出层\n",
    "W = tf.Variable(tf.zeros([784,10]))\n",
    "# 偏置值\n",
    "# 真实值\n",
    "b = tf.Variable(tf.zeros([10]))\n",
    "# 预测值\n",
    "# 激活函数 -> 需用softmax函数\n",
    "# 数据和权值矩阵相乘 + 偏置值 再 使用softmax函数激活\n",
    "# softmax -> 转换为概率值\n",
    "prediction = tf.nn.softmax(tf.matmul(x,W) + b)"
   ]
  },
  {
   "cell_type": "code",
   "execution_count": null,
   "metadata": {},
   "outputs": [],
   "source": [
    "# 优化\n",
    "# 二次代价函数\n",
    "# 误差值\n",
    "# 真实值 - 预测值 的 平方 的 平均值\n",
    "loss = tf.reduce_mean(tf.square(y - prediction))\n",
    "# 梯度下降\n",
    "# 0.2的学习率最小化loss\n",
    "train_step = tf.train.GradientDescentOptimizer(0.2).minimize(loss)\n",
    "# 测试准确率\n",
    "# tf.equal -> 比较参数一和参数二的行或者列的最大者 => True or False\n",
    "correct_prediction = tf.equal(tf.argmax(y,1), tf.argmax(prediction,1))"
   ]
  }
 ],
 "metadata": {
  "kernelspec": {
   "display_name": "Python 3",
   "language": "python",
   "name": "python3"
  },
  "language_info": {
   "codemirror_mode": {
    "name": "ipython",
    "version": 3
   },
   "file_extension": ".py",
   "mimetype": "text/x-python",
   "name": "python",
   "nbconvert_exporter": "python",
   "pygments_lexer": "ipython3",
   "version": "3.5.2"
  }
 },
 "nbformat": 4,
 "nbformat_minor": 2
}
