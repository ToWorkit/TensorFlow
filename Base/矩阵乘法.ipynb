{
 "cells": [
  {
   "cell_type": "code",
   "execution_count": 1,
   "metadata": {},
   "outputs": [
    {
     "name": "stdout",
     "output_type": "stream",
     "text": [
      "[[18]]\n"
     ]
    }
   ],
   "source": [
    "import tensorflow as tf\n",
    "# 创建常量\n",
    "ct_1 = tf.constant([[2,3,4]])\n",
    "ct_2 = tf.constant([[4],[2],[1]])\n",
    "# 创建矩阵乘法\n",
    "dot_product = tf.matmul(ct_1, ct_2)\n",
    "# 创建会话\n",
    "# 使用with创建，代码执行后自动关闭会话\n",
    "with tf.Session() as sess:\n",
    "    # 使用 run 执行操作\n",
    "    result = sess.run(dot_product)\n",
    "    print(result)"
   ]
  },
  {
   "cell_type": "code",
   "execution_count": null,
   "metadata": {},
   "outputs": [],
   "source": []
  }
 ],
 "metadata": {
  "kernelspec": {
   "display_name": "Python 3",
   "language": "python",
   "name": "python3"
  },
  "language_info": {
   "codemirror_mode": {
    "name": "ipython",
    "version": 3
   },
   "file_extension": ".py",
   "mimetype": "text/x-python",
   "name": "python",
   "nbconvert_exporter": "python",
   "pygments_lexer": "ipython3",
   "version": "3.5.2"
  }
 },
 "nbformat": 4,
 "nbformat_minor": 2
}
