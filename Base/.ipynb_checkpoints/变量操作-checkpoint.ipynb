{
 "cells": [
  {
   "cell_type": "code",
   "execution_count": 3,
   "metadata": {},
   "outputs": [
    {
     "name": "stdout",
     "output_type": "stream",
     "text": [
      "[-2 -2]\n",
      "[1 2]\n"
     ]
    }
   ],
   "source": [
    "import tensorflow as tf\n",
    "# 定义变量\n",
    "_v = tf.Variable([1,2])\n",
    "# 定义常量\n",
    "_c = tf.constant([3,4])\n",
    "# 减法操作\n",
    "sub = tf.subtract(_v, _c)\n",
    "# 加法操作\n",
    "add = tf.add(_c, sub)\n",
    "# 必须操作\n",
    "# 初始化变量\n",
    "init = tf.global_variables_initializer()\n",
    "# 建立会话\n",
    "with tf.Session() as sess:\n",
    "    # 初始化变量\n",
    "    sess.run(init)\n",
    "    print(sess.run(sub))\n",
    "    print(sess.run(add))"
   ]
  },
  {
   "cell_type": "code",
   "execution_count": 6,
   "metadata": {},
   "outputs": [
    {
     "name": "stdout",
     "output_type": "stream",
     "text": [
      "自增之前：0\n",
      "1\n",
      "2\n",
      "3\n",
      "4\n",
      "5\n"
     ]
    }
   ],
   "source": [
    "# 变量还有一个name的参数\n",
    "state = tf.Variable(0,name='counter')\n",
    "# 加 1 op\n",
    "add_value = tf.add(state,1)\n",
    "# tf 的赋值操作，不是 =, 将add_value的值赋给state\n",
    "update = tf.assign(state,add_value)\n",
    "# 初始化变量\n",
    "init = tf.global_variables_initializer()\n",
    "with tf.Session() as sess:\n",
    "    sess.run(init)\n",
    "    # 自增之前的\n",
    "    print('自增之前：%s' % sess.run(state))\n",
    "    # 来五次，我能打十个\n",
    "    for i in range(0,5):\n",
    "        print(sess.run(update))"
   ]
  },
  {
   "cell_type": "code",
   "execution_count": null,
   "metadata": {},
   "outputs": [],
   "source": []
  }
 ],
 "metadata": {
  "kernelspec": {
   "display_name": "Python 3",
   "language": "python",
   "name": "python3"
  },
  "language_info": {
   "codemirror_mode": {
    "name": "ipython",
    "version": 3
   },
   "file_extension": ".py",
   "mimetype": "text/x-python",
   "name": "python",
   "nbconvert_exporter": "python",
   "pygments_lexer": "ipython3",
   "version": "3.5.2"
  }
 },
 "nbformat": 4,
 "nbformat_minor": 2
}
