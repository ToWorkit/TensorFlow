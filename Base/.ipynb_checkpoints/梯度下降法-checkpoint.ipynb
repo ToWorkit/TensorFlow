{
 "cells": [
  {
   "cell_type": "code",
   "execution_count": 21,
   "metadata": {},
   "outputs": [
    {
     "name": "stdout",
     "output_type": "stream",
     "text": [
      "0 [0.047734082, 0.098164894]\n",
      "20 [0.098646037, 0.20065716]\n",
      "40 [0.099198177, 0.20038928]\n",
      "60 [0.099525116, 0.20023055]\n",
      "80 [0.099718742, 0.20013656]\n",
      "100 [0.099833421, 0.20008087]\n",
      "120 [0.099901348, 0.2000479]\n",
      "140 [0.099941574, 0.20002836]\n",
      "160 [0.099965394, 0.2000168]\n",
      "180 [0.099979505, 0.20000994]\n",
      "200 [0.099987872, 0.20000589]\n"
     ]
    }
   ],
   "source": [
    "import tensorflow as tf\n",
    "import numpy as np\n",
    "'''\n",
    "样本\n",
    "'''\n",
    "# 随机生成100个点\n",
    "x_data = np.random.rand(100)\n",
    "# 平面坐标系中接近于一条直线, 斜率 0.1 截距 0.2\n",
    "# 样本真实值\n",
    "y_data = x_data * 0.1 + 0.2\n",
    "'''\n",
    "模型\n",
    "'''\n",
    "# 构造一个线性模型并初始化值(可根据需求设置初始值)\n",
    "# 斜率\n",
    "k = tf.Variable(0.)\n",
    "# 截距\n",
    "b = tf.Variable(0.)\n",
    "# 模型预测值\n",
    "y = k * x_data + b\n",
    "'''\n",
    "优化\n",
    "训练并优化模型使之无限接近样本数据(k => 样本斜率, b => 样本截距)\n",
    "'''\n",
    "# 二次代价函数\n",
    "# reduce_mean -> 平均值\n",
    "# square -> 平方\n",
    "# y_data -> 真实值\n",
    "# y -> 预测值\n",
    "# y_data - y -> 误差值\n",
    "loss = tf.reduce_mean(tf.square(y_data - y))\n",
    "\n",
    "# 梯度下降法 -> 用作训练的优化器\n",
    "# arguments 学习率\n",
    "optimizer = tf.train.GradientDescentOptimizer(0.2)\n",
    "# 最小化代价函数\n",
    "# 训练 -> 目的最小化loss(误差值)\n",
    "# 误差值越小预测值越接近真实值\n",
    "train = optimizer.minimize(loss)\n",
    "\n",
    "# 初始化变量\n",
    "init = tf.global_variables_initializer()\n",
    "\n",
    "# 创建会话\n",
    "with tf.Session() as sess:\n",
    "    # 执行初始化\n",
    "    sess.run(init)\n",
    "    # 迭代 -> 训练次数\n",
    "    for step in range(201):\n",
    "        # 执行训练\n",
    "        sess.run(train)\n",
    "        # 每二十次打印一次\n",
    "        if  step % 20 == 0:\n",
    "            print(step, sess.run([k, b]))\n"
   ]
  },
  {
   "cell_type": "code",
   "execution_count": null,
   "metadata": {},
   "outputs": [],
   "source": []
  }
 ],
 "metadata": {
  "kernelspec": {
   "display_name": "Python 3",
   "language": "python",
   "name": "python3"
  },
  "language_info": {
   "codemirror_mode": {
    "name": "ipython",
    "version": 3
   },
   "file_extension": ".py",
   "mimetype": "text/x-python",
   "name": "python",
   "nbconvert_exporter": "python",
   "pygments_lexer": "ipython3",
   "version": "3.5.2"
  }
 },
 "nbformat": 4,
 "nbformat_minor": 2
}
