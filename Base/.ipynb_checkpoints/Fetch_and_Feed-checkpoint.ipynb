{
 "cells": [
  {
   "cell_type": "code",
   "execution_count": 1,
   "metadata": {},
   "outputs": [],
   "source": [
    "import tensorflow as tf"
   ]
  },
  {
   "cell_type": "code",
   "execution_count": 4,
   "metadata": {},
   "outputs": [
    {
     "name": "stdout",
     "output_type": "stream",
     "text": [
      "[3.0, 9.0]\n"
     ]
    }
   ],
   "source": [
    "# Fetch\n",
    "# 会话中同时执行多个操作\n",
    "input_1 = tf.constant(1.0)\n",
    "input_2 = tf.constant(2.0)\n",
    "input_3 = tf.constant(3.0)\n",
    "# 加法\n",
    "add = tf.add(input_2, input_1)\n",
    "# 乘法\n",
    "mul = tf.multiply(input_3, add)\n",
    "with tf.Session() as sess:\n",
    "    result = sess.run([add, mul])\n",
    "    print(result)"
   ]
  },
  {
   "cell_type": "code",
   "execution_count": 6,
   "metadata": {},
   "outputs": [
    {
     "name": "stdout",
     "output_type": "stream",
     "text": [
      "[ 12.]\n"
     ]
    }
   ],
   "source": [
    "# Feed\n",
    "# 占位符作默认参数，需要时传值\n",
    "input_1 = tf.placeholder(tf.float32)\n",
    "input_2 = tf.placeholder(tf.float32)\n",
    "# 输出乘法\n",
    "output = tf.multiply(input_1, input_2)\n",
    "with tf.Session() as sess:\n",
    "    # feed的数据需要以字典的形式传入\n",
    "    print(sess.run(output, feed_dict={input_1: [3.0], input_2: [4.0]}))\n"
   ]
  },
  {
   "cell_type": "code",
   "execution_count": null,
   "metadata": {},
   "outputs": [],
   "source": []
  }
 ],
 "metadata": {
  "kernelspec": {
   "display_name": "Python 3",
   "language": "python",
   "name": "python3"
  },
  "language_info": {
   "codemirror_mode": {
    "name": "ipython",
    "version": 3
   },
   "file_extension": ".py",
   "mimetype": "text/x-python",
   "name": "python",
   "nbconvert_exporter": "python",
   "pygments_lexer": "ipython3",
   "version": "3.5.2"
  }
 },
 "nbformat": 4,
 "nbformat_minor": 2
}
