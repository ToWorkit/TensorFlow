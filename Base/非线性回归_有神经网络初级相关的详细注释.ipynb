{
 "cells": [
  {
   "cell_type": "code",
   "execution_count": 2,
   "metadata": {
    "collapsed": true
   },
   "outputs": [],
   "source": [
    "import tensorflow as tf\n",
    "import numpy as np\n",
    "import matplotlib.pyplot as plt"
   ]
  },
  {
   "cell_type": "code",
   "execution_count": 3,
   "metadata": {},
   "outputs": [
    {
     "data": {
      "image/png": "[encoded data removed]",
      "text/plain": [
       "<matplotlib.figure.Figure at 0x2148937bb38>"
      ]
     },
     "metadata": {},
     "output_type": "display_data"
    }
   ],
   "source": [
    "'''\n",
    "样本\n",
    "'''\n",
    "# 随机生成200个随机点\n",
    "# -0.5 - 0.5 的范围内 均匀分布\n",
    "# 转换维度为 2维\n",
    "# newaxis -> 插入维度\n",
    "# 200 行 1 列\n",
    "x_data = np.linspace(-0.5,0.5,200)[:, np.newaxis]\n",
    "# 干扰项\n",
    "# shape -> 矩阵的维度\n",
    "# 形状与 x_data 一致\n",
    "# np.random.normal -> 正态分布（随机抽样）\n",
    "noise = np.random.normal(0,0.02,x_data.shape)\n",
    "# 真实值\n",
    "# x_data 实际为 U 型图， 加入干扰后散点会上下浮动\n",
    "# x_data的平方加上随机干扰项\n",
    "y_data = np.square(x_data) + noise\n",
    "'''\n",
    "输入层\n",
    "'''\n",
    "# 输入\n",
    "# 定义两个placeholder(占位符) -> 依据样本定义\n",
    "# 类型为32位浮点型，形状 -> 行 不确定，列 1列 \n",
    "x = tf.placeholder(tf.float32,[None,1])\n",
    "y = tf.placeholder(tf.float32,[None,1])\n",
    "'''\n",
    "中间层\n",
    "'''\n",
    "# 定义神经网络中间层\n",
    "# 都初始化为 0 tf.zeros，并不是很好\n",
    "# 权值 -> 连接输入层和中间层\n",
    "# 1 个输入层神经元，10 个中间层神经元\n",
    "# tf.random_normal -> 从正态分布中输出随机值\n",
    "Weights_L1 = tf.Variable(tf.random_normal([1,10]))\n",
    "# 偏置值\n",
    "# 全零矩阵，1 行 10 列\n",
    "biases_L1 = tf.Variable(tf.zeros([1,10]))\n",
    "# 信号总和\n",
    "# matmul -> 矩阵相乘\n",
    "Wx_plus_b_L1 = tf.matmul(x,Weights_L1) + biases_L1\n",
    "# 中间层输出\n",
    "# 激活函数 -> 用双曲正切函数来作为激活函数\n",
    "L1 = tf.nn.tanh(Wx_plus_b_L1)\n",
    "'''\n",
    "输出层\n",
    "'''\n",
    "# 定义神经网络输出层\n",
    "# 权值\n",
    "# 10 个中间层神经元，1 个输出层神经元\n",
    "Weights_L2 = tf.Variable(tf.random_normal([10,1])) \n",
    "# 偏置值\n",
    "biases_L2 = tf.Variable(tf.zeros([1,1]))\n",
    "# 信号总和\n",
    "# matmul -> 矩阵相乘\n",
    "# 输出层的输入就相当于是中间层的输出 -> L1\n",
    "Wx_plus_b_L2 = tf.matmul(L1, Weights_L2) + biases_L2\n",
    "# 激活函数 -> 选用双曲正切函数\n",
    "# 预测结果\n",
    "prediction = tf.nn.tanh(Wx_plus_b_L2)\n",
    "'''\n",
    "优化\n",
    "'''\n",
    "# 二次代价函数\n",
    "# 误差值 = 真实值 - 预测值 的 平方 的 平均值\n",
    "loss = tf.reduce_mean(tf.square(y - prediction))\n",
    "# 优化 -> 梯度下降法\n",
    "# 0.1 的学习率最小化误差值\n",
    "train_step = tf.train.GradientDescentOptimizer(0.1).minimize(loss)\n",
    "\n",
    "with tf.Session() as sess:\n",
    "    # 初始化变量\n",
    "    sess.run(tf.global_variables_initializer())\n",
    "    # 训练次数\n",
    "    for _ in range(2000):\n",
    "        # 传入样本值\n",
    "        sess.run(train_step,feed_dict={x:x_data,y:y_data})\n",
    "    # 获得预测值\n",
    "    prediction_value = sess.run(prediction, feed_dict={x:x_data})\n",
    "    # 画图\n",
    "    plt.figure()\n",
    "    # 样本\n",
    "    plt.scatter(x_data, y_data)\n",
    "    # 预测结果\n",
    "    # 样本值， 预测值， 线的颜色实线， 线宽 5\n",
    "    plt.plot(x_data, prediction_value, 'r-', lw=5)\n",
    "    plt.show()"
   ]
  }
 ],
 "metadata": {
  "kernelspec": {
   "display_name": "Python 3",
   "language": "python",
   "name": "python3"
  },
  "language_info": {
   "codemirror_mode": {
    "name": "ipython",
    "version": 3
   },
   "file_extension": ".py",
   "mimetype": "text/x-python",
   "name": "python",
   "nbconvert_exporter": "python",
   "pygments_lexer": "ipython3",
   "version": "3.6.1"
  }
 },
 "nbformat": 4,
 "nbformat_minor": 2
}
