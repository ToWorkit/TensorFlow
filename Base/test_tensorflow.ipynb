{
 "cells": [
  {
   "cell_type": "code",
   "execution_count": 12,
   "metadata": {},
   "outputs": [
    {
     "name": "stdout",
     "output_type": "stream",
     "text": [
      "[[-1.44546282  0.70412809 -0.1965815  -0.09375751  0.97235626  1.16784286\n",
      "   0.89315337 -0.61934626 -0.47747391 -1.80787301]]\n",
      "[[-0.98297691 -1.54822838  0.0179274  -0.44945896  0.21931507 -0.0759965\n",
      "   1.12595356  0.75712866  1.54834831 -1.00209391]]\n"
     ]
    }
   ],
   "source": [
    "import tensorflow as tf\n",
    "a = tf.constant(10)\n",
    "b = tf.constant(22)\n",
    "\n",
    "with tf.Session() as sess:\n",
    "    # 从正态分布中输出随机值\n",
    "    _random_normal = sess.run(tf.random_normal([1,10]))\n",
    "    print(_random_normal)\n",
    "    # 从截断的正态分布中输出随机值\n",
    "    _truncated_normal = sess.run(tf.truncated_normal([1,10]))\n",
    "    print(_truncated_normal)"
   ]
  },
  {
   "cell_type": "code",
   "execution_count": null,
   "metadata": {
    "collapsed": true
   },
   "outputs": [],
   "source": []
  }
 ],
 "metadata": {
  "anaconda-cloud": {},
  "kernelspec": {
   "display_name": "Python 3",
   "language": "python",
   "name": "python3"
  },
  "language_info": {
   "codemirror_mode": {
    "name": "ipython",
    "version": 3
   },
   "file_extension": ".py",
   "mimetype": "text/x-python",
   "name": "python",
   "nbconvert_exporter": "python",
   "pygments_lexer": "ipython3",
   "version": "3.5.2"
  }
 },
 "nbformat": 4,
 "nbformat_minor": 1
}
