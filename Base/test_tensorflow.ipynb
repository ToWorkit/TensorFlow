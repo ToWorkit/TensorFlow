{
 "cells": [
  {
   "cell_type": "code",
   "execution_count": 4,
   "metadata": {},
   "outputs": [
    {
     "name": "stdout",
     "output_type": "stream",
     "text": [
      "[[-0.26604125 -0.61854708  0.13728838  0.4313924   2.18771935  0.94398713\n",
      "  -0.24663612 -0.00723609  0.95249075 -0.03784236]]\n",
      "[[-0.02106814  0.82854509 -0.34243208 -0.38960502 -0.7242986  -0.67954749\n",
      "  -0.83068424  0.4387362   0.86272454  0.42004889]]\n"
     ]
    }
   ],
   "source": [
    "import tensorflow as tf\n",
    "a = tf.constant(10)\n",
    "b = tf.constant(22)\n",
    "\n",
    "with tf.Session() as sess:\n",
    "    # 从正态分布中输出随机值\n",
    "    _random_normal = sess.run(tf.random_normal([1,10]))\n",
    "    print(_random_normal)\n",
    "    # 从截断的正态分布中输出随机值\n",
    "    _truncated_normal = sess.run(tf.truncated_normal([1,10]))\n",
    "    print(_truncated_normal)"
   ]
  },
  {
   "cell_type": "code",
   "execution_count": 24,
   "metadata": {},
   "outputs": [
    {
     "name": "stdout",
     "output_type": "stream",
     "text": [
      "[[ 33  43  35]\n",
      " [ 84 109  89]]\n",
      "[[ 7 16 27]\n",
      " [16 35  6]]\n"
     ]
    }
   ],
   "source": [
    "import numpy as np\n",
    "a = np.array([[1, 2, 3], [4, 5, 6]])\n",
    "b = np.array([[7, 8, 9], [4, 7, 1], [6, 7, 8]])\n",
    "# dot 求阶乘\n",
    "d = np.dot(a, b)\n",
    "print(d)\n",
    "\n",
    "l = np.array([[1, 2, 3], [4, 5, 6]])\n",
    "t = np.array([[7, 8, 9], [4, 7, 1]])\n",
    "# multiply 求对应位置的乘积\n",
    "c = np.multiply(l, t)\n",
    "print(c)\n"
   ]
  },
  {
   "cell_type": "code",
   "execution_count": null,
   "metadata": {
    "collapsed": true
   },
   "outputs": [],
   "source": []
  }
 ],
 "metadata": {
  "anaconda-cloud": {},
  "kernelspec": {
   "display_name": "Python 3",
   "language": "python",
   "name": "python3"
  },
  "language_info": {
   "codemirror_mode": {
    "name": "ipython",
    "version": 3
   },
   "file_extension": ".py",
   "mimetype": "text/x-python",
   "name": "python",
   "nbconvert_exporter": "python",
   "pygments_lexer": "ipython3",
   "version": "3.6.1"
  }
 },
 "nbformat": 4,
 "nbformat_minor": 1
}
