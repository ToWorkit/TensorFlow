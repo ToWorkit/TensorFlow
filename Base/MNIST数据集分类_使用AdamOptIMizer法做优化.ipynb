{
 "cells": [
  {
   "cell_type": "code",
   "execution_count": 1,
   "metadata": {},
   "outputs": [],
   "source": [
    "import tensorflow as tf\n",
    "from tensorflow.examples.tutorials.mnist import input_data"
   ]
  },
  {
   "cell_type": "code",
   "execution_count": 2,
   "metadata": {},
   "outputs": [
    {
     "name": "stdout",
     "output_type": "stream",
     "text": [
      "Extracting MNIST_data\\train-images-idx3-ubyte.gz\n",
      "Extracting MNIST_data\\train-labels-idx1-ubyte.gz\n",
      "Extracting MNIST_data\\t10k-images-idx3-ubyte.gz\n",
      "Extracting MNIST_data\\t10k-labels-idx1-ubyte.gz\n"
     ]
    }
   ],
   "source": [
    "# 载入数据集\n",
    "# one_hot 处理 -> 某个单位为1，其余全为零\n",
    "mnist = input_data.read_data_sets('MNIST_data', one_hot=True)\n",
    "# 每个批次的大小\n",
    "batch_size = 100\n",
    "# 计算一共有多少个批次\n",
    "# 总数据集  整除  批次大小\n",
    "n_batch = mnist.train.num_examples // batch_size"
   ]
  },
  {
   "cell_type": "code",
   "execution_count": 3,
   "metadata": {},
   "outputs": [],
   "source": [
    "# 定义两个placeholder\n",
    "x = tf.placeholder(tf.float32, [None, 784])\n",
    "y = tf.placeholder(tf.float32, [None, 10])"
   ]
  },
  {
   "cell_type": "code",
   "execution_count": 4,
   "metadata": {},
   "outputs": [],
   "source": [
    "# 输出层\n",
    "# 权值\n",
    "W = tf.Variable(tf.zeros([784, 10]))\n",
    "# 偏置值\n",
    "b = tf.Variable(tf.zeros([10]))\n",
    "# 预测值\n",
    "# 激活函数 -> softmax 交叉熵函数\n",
    "prediction = tf.nn.softmax(tf.matmul(x, W) + b)"
   ]
  },
  {
   "cell_type": "code",
   "execution_count": 5,
   "metadata": {},
   "outputs": [],
   "source": [
    "# softmax 交叉熵代价函数\n",
    "# 误差值\n",
    "loss = tf.reduce_mean(tf.nn.softmax_cross_entropy_with_logits(labels=y, logits=prediction))\n",
    "'''\n",
    "优化\n",
    "'''\n",
    "# 梯度下降法最小化误差值 loss\n",
    "tran_step = tf.train.GradientDescentOptimizer(0.2).minimize(loss)\n",
    "\n",
    "# 使用AdamOptimizer方法最小化误差值 loss , 使用时学习率尽量小\n",
    "# 1e-3 -> 10的-3次方\n",
    "# tran_step = tf.train.AdamOptimizer(1e-2).minimize(loss)"
   ]
  },
  {
   "cell_type": "code",
   "execution_count": 6,
   "metadata": {},
   "outputs": [],
   "source": [
    "# 测试准确率 => 存放布尔值的列表\n",
    "# tf.equal -> 比较参数一(真实值数据)和参数二(预测值数据)行[或者列]的最大值 => True or False\n",
    "# argmax -> 返回一维张量中最大值所在的位置\n",
    "correct_prediction = tf.equal(tf.argmax(y,1), tf.argmax(prediction,1))\n",
    "# 求准确率\n",
    "# tf.cast -> 将对比后的布尔值列表转换为对应的浮点值 => True为1.0，False为0\n",
    "# tf.reduce_mean -> 平均值\n",
    "accuracy = tf.reduce_mean(tf.cast(correct_prediction, tf.float32))"
   ]
  },
  {
   "cell_type": "code",
   "execution_count": 7,
   "metadata": {},
   "outputs": [
    {
     "name": "stdout",
     "output_type": "stream",
     "text": [
      "第 0 批次测试准确率为 0.825\n",
      "第 1 批次测试准确率为 0.8894\n",
      "第 2 批次测试准确率为 0.9005\n",
      "第 3 批次测试准确率为 0.9058\n",
      "第 4 批次测试准确率为 0.9073\n",
      "第 5 批次测试准确率为 0.9104\n",
      "第 6 批次测试准确率为 0.9111\n",
      "第 7 批次测试准确率为 0.913\n",
      "第 8 批次测试准确率为 0.9151\n",
      "第 9 批次测试准确率为 0.9148\n",
      "第 10 批次测试准确率为 0.9177\n",
      "第 11 批次测试准确率为 0.9183\n",
      "第 12 批次测试准确率为 0.919\n",
      "第 13 批次测试准确率为 0.9187\n",
      "第 14 批次测试准确率为 0.9199\n",
      "第 15 批次测试准确率为 0.9205\n",
      "第 16 批次测试准确率为 0.9199\n",
      "第 17 批次测试准确率为 0.9201\n",
      "第 18 批次测试准确率为 0.9202\n",
      "第 19 批次测试准确率为 0.9215\n",
      "第 20 批次测试准确率为 0.9217\n"
     ]
    }
   ],
   "source": [
    "# 启动\n",
    "with tf.Session() as sess:\n",
    "    # 先初始化变量\n",
    "    sess.run(tf.global_variables_initializer())\n",
    "    # 周期\n",
    "    for epoch in range(21):\n",
    "        # 批次\n",
    "        for batch in range(n_batch):\n",
    "            # batch_xs\n",
    "            # 获得一个批次，每次大小为100\n",
    "            # 相当于每次获取100张图片\n",
    "            # batch_ys\n",
    "            # 图片的标签\n",
    "            batch_xs, batch_ys = mnist.train.next_batch(batch_size)\n",
    "            sess.run(tran_step, feed_dict={x:batch_xs, y:batch_ys})\n",
    "        # 每阶段的测试准确率\n",
    "        acc = sess.run(accuracy, feed_dict={x:mnist.test.images, y:mnist.test.labels})\n",
    "        print('第 %s 批次测试准确率为 %s' % (str(epoch), str(acc)))"
   ]
  }
 ],
 "metadata": {
  "kernelspec": {
   "display_name": "Python 3",
   "language": "python",
   "name": "python3"
  },
  "language_info": {
   "codemirror_mode": {
    "name": "ipython",
    "version": 3
   },
   "file_extension": ".py",
   "mimetype": "text/x-python",
   "name": "python",
   "nbconvert_exporter": "python",
   "pygments_lexer": "ipython3",
   "version": "3.5.2"
  }
 },
 "nbformat": 4,
 "nbformat_minor": 2
}
