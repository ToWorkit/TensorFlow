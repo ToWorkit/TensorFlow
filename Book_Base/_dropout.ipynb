{
 "cells": [
  {
   "cell_type": "code",
   "execution_count": 2,
   "metadata": {},
   "outputs": [
    {
     "name": "stdout",
     "output_type": "stream",
     "text": [
      "[[-0.  4.  0.  8.]]\n",
      "[[-2.  4.  6.  8.]]\n"
     ]
    }
   ],
   "source": [
    "import tensorflow as tf\n",
    "a = tf.constant([[-1.0, 2.0, 3.0, 4.0]])\n",
    "with tf.Session() as sess:\n",
    "    # noise -> 噪声\n",
    "    b = tf.nn.dropout(a, 0.5, noise_shape = [1, 4])\n",
    "    print(sess.run(b))\n",
    "    c = tf.nn.dropout(a, 0.5, noise_shape = [1, 1])\n",
    "    print(sess.run(c))"
   ]
  },
  {
   "cell_type": "code",
   "execution_count": null,
   "metadata": {
    "collapsed": true
   },
   "outputs": [],
   "source": []
  }
 ],
 "metadata": {
  "kernelspec": {
   "display_name": "Python 3",
   "language": "python",
   "name": "python3"
  },
  "language_info": {
   "codemirror_mode": {
    "name": "ipython",
    "version": 3
   },
   "file_extension": ".py",
   "mimetype": "text/x-python",
   "name": "python",
   "nbconvert_exporter": "python",
   "pygments_lexer": "ipython3",
   "version": "3.6.1"
  }
 },
 "nbformat": 4,
 "nbformat_minor": 2
}
