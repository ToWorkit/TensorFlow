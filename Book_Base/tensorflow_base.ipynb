{
 "cells": [
  {
   "cell_type": "code",
   "execution_count": 1,
   "metadata": {},
   "outputs": [],
   "source": [
    "import tensorflow as tf"
   ]
  },
  {
   "cell_type": "code",
   "execution_count": 2,
   "metadata": {},
   "outputs": [],
   "source": [
    "# 创建一个常量运算操作，产生一个1 * 2矩阵\n",
    "matrix1 = tf.constant([[3., 3.]])\n",
    "# 2 * 1矩阵\n",
    "matrix2 = tf.constant([[2.], [2.]])\n",
    "# 矩阵乘法\n",
    "product = tf.matmul(matrix1, matrix2)"
   ]
  },
  {
   "cell_type": "code",
   "execution_count": 4,
   "metadata": {},
   "outputs": [
    {
     "name": "stdout",
     "output_type": "stream",
     "text": [
      "[[ 12.]]\n"
     ]
    }
   ],
   "source": [
    "# 创建并启动会话\n",
    "with tf.Session() as sess:\n",
    "    # 指定使用第二个gpu运行\n",
    "    with tf.device('/gpu:1'):\n",
    "        result = sess.run(product)\n",
    "    print(result)"
   ]
  },
  {
   "cell_type": "code",
   "execution_count": 9,
   "metadata": {},
   "outputs": [
    {
     "name": "stdout",
     "output_type": "stream",
     "text": [
      "[array([ 14.       ,   4.       ,   6.4000001], dtype=float32)]\n"
     ]
    }
   ],
   "source": [
    "# 除了创建变量外\n",
    "# TensorFlow 还提供了填充机制，可以在构建图时使用 tf.placeholder()临时替代任意操作的张\n",
    "# 量，在调用 Session 对象的 run()方法去执行图时，使用填充数据作为调用的参数，调用结束后，\n",
    "# 填充数据就消失\n",
    "input_1 = tf.placeholder(tf.float32)\n",
    "input_2 = tf.placeholder(tf.float32)\n",
    "# multiply -> 矩阵相乘\n",
    "output = tf.multiply(input_1, input_2)\n",
    "with tf.Session() as sess:\n",
    "    # feed_dict -> 传入参数\n",
    "    result = sess.run([output], feed_dict={input_1: [7., 2, 3.2], input_2: [2.]})\n",
    "    print(result)"
   ]
  },
  {
   "cell_type": "code",
   "execution_count": null,
   "metadata": {},
   "outputs": [],
   "source": []
  }
 ],
 "metadata": {
  "kernelspec": {
   "display_name": "Python 3",
   "language": "python",
   "name": "python3"
  },
  "language_info": {
   "codemirror_mode": {
    "name": "ipython",
    "version": 3
   },
   "file_extension": ".py",
   "mimetype": "text/x-python",
   "name": "python",
   "nbconvert_exporter": "python",
   "pygments_lexer": "ipython3",
   "version": "3.5.2"
  }
 },
 "nbformat": 4,
 "nbformat_minor": 2
}
