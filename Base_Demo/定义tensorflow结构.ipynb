{
 "cells": [
  {
   "cell_type": "code",
   "execution_count": 1,
   "metadata": {
    "collapsed": true
   },
   "outputs": [],
   "source": [
    "import tensorflow as tf\n",
    "import numpy as np"
   ]
  },
  {
   "cell_type": "code",
   "execution_count": 8,
   "metadata": {},
   "outputs": [
    {
     "name": "stdout",
     "output_type": "stream",
     "text": [
      "0 [ 0.57762223] [ 0.03792873]\n",
      "20 [ 0.23252244] [ 0.22558983]\n",
      "40 [ 0.13697195] [ 0.27924058]\n",
      "60 [ 0.11031466] [ 0.29420841]\n",
      "80 [ 0.10287765] [ 0.29838425]\n",
      "100 [ 0.10080282] [ 0.29954922]\n",
      "120 [ 0.10022397] [ 0.29987425]\n",
      "140 [ 0.1000625] [ 0.29996493]\n",
      "160 [ 0.10001744] [ 0.29999021]\n",
      "180 [ 0.10000487] [ 0.29999727]\n",
      "200 [ 0.10000135] [ 0.29999924]\n"
     ]
    }
   ],
   "source": [
    "# 创建数据，取100个随机数并设置类型为float32\n",
    "x_data = np.random.rand(100).astype(np.float32)\n",
    "# 加入干扰 -> 噪声\n",
    "# 真实值\n",
    "y_data = x_data * 0.1 + 0.3   # => 注意对比预测值\n",
    "\n",
    "# 创建tensorflow结构\n",
    "# 权值\n",
    "# tf.random_uniform() -> 随机生成 => 1 维， -1.0到1.0之间\n",
    "Weights = tf.Variable(tf.random_uniform([1], -1.0, 1.0))\n",
    "# 偏置值\n",
    "# tf.zeros -> 全零 => 初始值为 0\n",
    "biases = tf.Variable(tf.zeros([1]))\n",
    "\n",
    "# 预测值\n",
    "y = Weights * x_data + biases\n",
    "\n",
    "# 优化\n",
    "# 误差\n",
    "# tf.square -> 平方\n",
    "# tf.reduce_mean -> 平均值\n",
    "loss = tf.reduce_mean(tf.square(y - y_data))\n",
    "# 学习率\n",
    "optimizer = tf.train.GradientDescentOptimizer(0.5)\n",
    "# 最小化\n",
    "train = optimizer.minimize(loss)\n",
    "\n",
    "with tf.Session() as sess:\n",
    "    # 初始化变量\n",
    "    sess.run(tf.global_variables_initializer())\n",
    "    # 训练\n",
    "    for step in range(201):\n",
    "        sess.run(train)\n",
    "        if step % 20 == 0:\n",
    "            print(step, sess.run(Weights), sess.run(biases))"
   ]
  },
  {
   "cell_type": "code",
   "execution_count": null,
   "metadata": {
    "collapsed": true
   },
   "outputs": [],
   "source": []
  }
 ],
 "metadata": {
  "kernelspec": {
   "display_name": "Python 3",
   "language": "python",
   "name": "python3"
  },
  "language_info": {
   "codemirror_mode": {
    "name": "ipython",
    "version": 3
   },
   "file_extension": ".py",
   "mimetype": "text/x-python",
   "name": "python",
   "nbconvert_exporter": "python",
   "pygments_lexer": "ipython3",
   "version": "3.6.1"
  }
 },
 "nbformat": 4,
 "nbformat_minor": 2
}
